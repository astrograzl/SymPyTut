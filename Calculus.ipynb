{
 "cells": [
  {
   "cell_type": "markdown",
   "metadata": {},
   "source": [
    "## Calculus"
   ]
  },
  {
   "cell_type": "markdown",
   "metadata": {},
   "source": [
    "Calculus is the study of the properties of functions. The operations of\n",
    "calculus are used to describe the limit behaviour of functions, calculate\n",
    "their rates of change, and calculate the areas under their graphs. In\n",
    "this section we'll learn about the `SymPy` functions for calculating\n",
    "limits, derivatives, integrals, and summations."
   ]
  },
  {
   "cell_type": "markdown",
   "metadata": {},
   "source": [
    "### Infinity"
   ]
  },
  {
   "cell_type": "markdown",
   "metadata": {},
   "source": [
    "The infinity symbol is denoted `oo` (two lowercase `o`s) in `SymPy`. Infinity\n",
    "is not a number but a process: the process of counting forever. Thus,\n",
    "$\\infty + 1 = \\infty$, $\\infty$ is greater than any finite number, and $1/\\infty$ is an\n",
    "infinitely small number. `Sympy` knows how to correctly treat infinity\n",
    "in expressions:"
   ]
  },
  {
   "cell_type": "code",
   "execution_count": 78,
   "metadata": {
    "collapsed": false
   },
   "outputs": [
    {
     "data": {
      "image/png": "[encoded data removed]",
      "text/latex": [
       "$$\\infty$$"
      ],
      "text/plain": [
       "∞"
      ]
     },
     "execution_count": 78,
     "metadata": {},
     "output_type": "execute_result"
    }
   ],
   "source": [
    "oo+1"
   ]
  },
  {
   "cell_type": "code",
   "execution_count": 79,
   "metadata": {
    "collapsed": false
   },
   "outputs": [
    {
     "data": {
      "image/png": "[encoded data removed]",
      "text/latex": [
       "$$\\mathrm{True}$$"
      ],
      "text/plain": [
       "True"
      ]
     },
     "execution_count": 79,
     "metadata": {},
     "output_type": "execute_result"
    }
   ],
   "source": [
    "5000 < oo"
   ]
  },
  {
   "cell_type": "code",
   "execution_count": 80,
   "metadata": {
    "collapsed": false
   },
   "outputs": [
    {
     "data": {
      "image/png": "[encoded data removed]",
      "text/latex": [
       "$$0$$"
      ],
      "text/plain": [
       "0"
      ]
     },
     "execution_count": 80,
     "metadata": {},
     "output_type": "execute_result"
    }
   ],
   "source": [
    "1/oo"
   ]
  },
  {
   "cell_type": "markdown",
   "metadata": {},
   "source": [
    "### Limits"
   ]
  },
  {
   "cell_type": "markdown",
   "metadata": {},
   "source": [
    "We use limits to describe, with mathematical precision, infinitely large\n",
    "quantities, infinitely small quantities, and procedures with infinitely\n",
    "many steps.\n",
    "\n",
    "The number $e$ is defined as the limit $e \\equiv \\lim_{n\\to\\infty}\\left(1+\\frac{1}{n}\\right)^n$:"
   ]
  },
  {
   "cell_type": "code",
   "execution_count": 81,
   "metadata": {
    "collapsed": false
   },
   "outputs": [
    {
     "data": {
      "image/png": "[encoded data removed]",
      "text/latex": [
       "$$e$$"
      ],
      "text/plain": [
       "ℯ"
      ]
     },
     "execution_count": 81,
     "metadata": {},
     "output_type": "execute_result"
    }
   ],
   "source": [
    "limit( (1+1/n)**n, n, oo)"
   ]
  },
  {
   "cell_type": "markdown",
   "metadata": {},
   "source": [
    "This limit expression describes the annual growth rate of a loan with\n",
    "a nominal interest rate of 100% and infinitely frequent compounding.\n",
    "Borrow \\$1000 in such a scheme, and you'll owe $2718.28 after one year.\n",
    "\n",
    "Limits are also useful to describe the behaviour of functions. Consider\n",
    "the function $f(x) = \\frac{1}{x}$. The `limit` command shows us what happens\n",
    "to $f(x)$ near $x = 0$ and as $x$ goes to infinity:"
   ]
  },
  {
   "cell_type": "code",
   "execution_count": 82,
   "metadata": {
    "collapsed": false
   },
   "outputs": [
    {
     "data": {
      "image/png": "[encoded data removed]",
      "text/latex": [
       "$$\\infty$$"
      ],
      "text/plain": [
       "∞"
      ]
     },
     "execution_count": 82,
     "metadata": {},
     "output_type": "execute_result"
    }
   ],
   "source": [
    "limit( 1/x, x, 0, dir=\"+\")"
   ]
  },
  {
   "cell_type": "code",
   "execution_count": 83,
   "metadata": {
    "collapsed": false
   },
   "outputs": [
    {
     "data": {
      "image/png": "[encoded data removed]",
      "text/latex": [
       "$$-\\infty$$"
      ],
      "text/plain": [
       "-∞"
      ]
     },
     "execution_count": 83,
     "metadata": {},
     "output_type": "execute_result"
    }
   ],
   "source": [
    "limit( 1/x, x, 0, dir=\"-\")"
   ]
  },
  {
   "cell_type": "code",
   "execution_count": 84,
   "metadata": {
    "collapsed": false
   },
   "outputs": [
    {
     "data": {
      "image/png": "[encoded data removed]",
      "text/latex": [
       "$$0$$"
      ],
      "text/plain": [
       "0"
      ]
     },
     "execution_count": 84,
     "metadata": {},
     "output_type": "execute_result"
    }
   ],
   "source": [
    "limit( 1/x, x, oo)"
   ]
  },
  {
   "cell_type": "markdown",
   "metadata": {},
   "source": [
    "As $x$ becomes larger and larger, the fraction $\\frac{1}{x}$ becomes smaller\n",
    "and smaller. In the limit where $x$ goes to infinity, $\\frac{1}{x}$ approaches\n",
    "zero: $\\lim_{x\\to\\infty}\\frac{1}{x} = 0$. On the other hand, when $x$ takes on smaller\n",
    "and smaller positive values, the expression $\\frac{1}{x}$ becomes infinite:\n",
    "$\\lim_{x\\to0^+}\\frac{1}{x} = \\infty$. When $x$ approaches 0 from the left, we have\n",
    "$\\lim_{x\\to0^-}\\frac{1}{x}=-\\infty$. If these calculations are not clear to you, study\n",
    "the graph of $f(x) = \\frac{1}{x}$.\n",
    "\n",
    "Here are some other examples of limits:"
   ]
  },
  {
   "cell_type": "code",
   "execution_count": 85,
   "metadata": {
    "collapsed": false
   },
   "outputs": [
    {
     "data": {
      "image/png": "[encoded data removed]",
      "text/latex": [
       "$$1$$"
      ],
      "text/plain": [
       "1"
      ]
     },
     "execution_count": 85,
     "metadata": {},
     "output_type": "execute_result"
    }
   ],
   "source": [
    "limit(sin(x)/x, x, 0)"
   ]
  },
  {
   "cell_type": "code",
   "execution_count": 86,
   "metadata": {
    "collapsed": false
   },
   "outputs": [
    {
     "data": {
      "image/png": "[encoded data removed]",
      "text/latex": [
       "$$0$$"
      ],
      "text/plain": [
       "0"
      ]
     },
     "execution_count": 86,
     "metadata": {},
     "output_type": "execute_result"
    }
   ],
   "source": [
    "limit(sin(x)**2/x, x, 0)"
   ]
  },
  {
   "cell_type": "code",
   "execution_count": 87,
   "metadata": {
    "collapsed": false
   },
   "outputs": [
    {
     "data": {
      "image/png": "[encoded data removed]",
      "text/latex": [
       "$$\\infty$$"
      ],
      "text/plain": [
       "∞"
      ]
     },
     "execution_count": 87,
     "metadata": {},
     "output_type": "execute_result"
    }
   ],
   "source": [
    "limit(exp(x)/x**100,x,oo)  # which is bigger e^x or x^100 ?\n",
    "                           # exp f >> all poly f for big x"
   ]
  },
  {
   "cell_type": "markdown",
   "metadata": {},
   "source": [
    "Limits are used to define the derivative and the integral operations."
   ]
  },
  {
   "cell_type": "markdown",
   "metadata": {},
   "source": [
    "### Derivatives"
   ]
  },
  {
   "cell_type": "markdown",
   "metadata": {},
   "source": [
    "The derivative function, denoted $f'(x)$, $\\frac{d}{dx}f(x)$, $\\frac{df}{dx}$, or $\\frac{dy}{dx}$, \n",
    "describes the *rate of change* of the function $f(x)$.\n",
    "The `SymPy` function `diff` computes the derivative of any expression:"
   ]
  },
  {
   "cell_type": "code",
   "execution_count": 88,
   "metadata": {
    "collapsed": false
   },
   "outputs": [
    {
     "data": {
      "image/png": "[encoded data removed]",
      "text/latex": [
       "$$3 x^{2}$$"
      ],
      "text/plain": [
       "   2\n",
       "3⋅x "
      ]
     },
     "execution_count": 88,
     "metadata": {},
     "output_type": "execute_result"
    }
   ],
   "source": [
    "diff(x**3, x)"
   ]
  },
  {
   "cell_type": "markdown",
   "metadata": {},
   "source": [
    "The differentiation operation knows about the product rule $[f(x)g(x)]^\\prime=f^\\prime(x)g(x)+f(x)g^\\prime(x)$, \n",
    "the chain rule $f(g(x))' = f'(g(x))g'(x)$, \n",
    "and the quotient rule $\\left[\\frac{f(x)}{g(x)}\\right]^\\prime = \\frac{f'(x)g(x) - f(x)g'(x)}{g(x)^2}$:"
   ]
  },
  {
   "cell_type": "code",
   "execution_count": 89,
   "metadata": {
    "collapsed": false
   },
   "outputs": [
    {
     "data": {
      "image/png": "[encoded data removed]",
      "text/latex": [
       "$$x^{2} \\cos{\\left (x \\right )} + 2 x \\sin{\\left (x \\right )}$$"
      ],
      "text/plain": [
       " 2                    \n",
       "x ⋅cos(x) + 2⋅x⋅sin(x)"
      ]
     },
     "execution_count": 89,
     "metadata": {},
     "output_type": "execute_result"
    }
   ],
   "source": [
    "diff( x**2*sin(x), x )"
   ]
  },
  {
   "cell_type": "code",
   "execution_count": 90,
   "metadata": {
    "collapsed": false
   },
   "outputs": [
    {
     "data": {
      "image/png": "[encoded data removed]",
      "text/latex": [
       "$$2 x \\cos{\\left (x^{2} \\right )}$$"
      ],
      "text/plain": [
       "       ⎛ 2⎞\n",
       "2⋅x⋅cos⎝x ⎠"
      ]
     },
     "execution_count": 90,
     "metadata": {},
     "output_type": "execute_result"
    }
   ],
   "source": [
    "diff( sin(x**2), x )"
   ]
  },
  {
   "cell_type": "code",
   "execution_count": 91,
   "metadata": {
    "collapsed": false
   },
   "outputs": [
    {
     "data": {
      "image/png": "[encoded data removed]",
      "text/latex": [
       "$$- \\frac{x^{2} \\cos{\\left (x \\right )}}{\\sin^{2}{\\left (x \\right )}} + \\frac{2 x}{\\sin{\\left (x \\right )}}$$"
      ],
      "text/plain": [
       "   2                \n",
       "  x ⋅cos(x)    2⋅x  \n",
       "- ───────── + ──────\n",
       "      2       sin(x)\n",
       "   sin (x)          "
      ]
     },
     "execution_count": 91,
     "metadata": {},
     "output_type": "execute_result"
    }
   ],
   "source": [
    "diff( x**2/sin(x), x )"
   ]
  },
  {
   "cell_type": "markdown",
   "metadata": {},
   "source": [
    "The second derivative of a function `f` is `diff(f,x,2)`:"
   ]
  },
  {
   "cell_type": "code",
   "execution_count": 92,
   "metadata": {
    "collapsed": false
   },
   "outputs": [
    {
     "data": {
      "image/png": "[encoded data removed]",
      "text/latex": [
       "$$6 x$$"
      ],
      "text/plain": [
       "6⋅x"
      ]
     },
     "execution_count": 92,
     "metadata": {},
     "output_type": "execute_result"
    }
   ],
   "source": [
    "diff(x**3, x, 2)   # same as diff(diff(x**3, x), x)"
   ]
  },
  {
   "cell_type": "markdown",
   "metadata": {},
   "source": [
    "The exponential function $f(x)=e^x$ is special because it is equal to its derivative:"
   ]
  },
  {
   "cell_type": "code",
   "execution_count": 93,
   "metadata": {
    "collapsed": false
   },
   "outputs": [
    {
     "data": {
      "image/png": "[encoded data removed]",
      "text/latex": [
       "$$e^{x}$$"
      ],
      "text/plain": [
       " x\n",
       "ℯ "
      ]
     },
     "execution_count": 93,
     "metadata": {},
     "output_type": "execute_result"
    }
   ],
   "source": [
    "diff( exp(x), x )  # same as diff( E**x, x  )"
   ]
  },
  {
   "cell_type": "markdown",
   "metadata": {},
   "source": [
    "A differential equation is an equation that relates some unknown function $f(x)$ to its derivative. \n",
    "An example of a differential equation is $f'(x)=f(x)$.\n",
    "What is the function $f(x)$ which is equal to its derivative?\n",
    "You can either try to guess what $f(x)$ is or use the `dsolve` function:"
   ]
  },
  {
   "cell_type": "code",
   "execution_count": 94,
   "metadata": {
    "collapsed": false
   },
   "outputs": [
    {
     "data": {
      "image/png": "[encoded data removed]",
      "text/latex": [
       "$$f{\\left (x \\right )} = C_{1} e^{x}$$"
      ],
      "text/plain": [
       "           x\n",
       "f(x) = C₁⋅ℯ "
      ]
     },
     "execution_count": 94,
     "metadata": {},
     "output_type": "execute_result"
    }
   ],
   "source": [
    "x = symbols('x')\n",
    "f = symbols('f', cls=Function)  # can now use f(x)\n",
    "dsolve( f(x) - diff(f(x),x), f(x) )"
   ]
  },
  {
   "cell_type": "markdown",
   "metadata": {},
   "source": [
    "We'll discuss `dsolve` again in the section on mechanics."
   ]
  },
  {
   "cell_type": "markdown",
   "metadata": {},
   "source": [
    "### Tangent lines"
   ]
  },
  {
   "cell_type": "markdown",
   "metadata": {},
   "source": [
    "The *tangent line* to the function $f(x)$ at $x=x_0$ is \n",
    "the line that passes through the point $(x_0, f(x_0))$ and has \n",
    "the same slope as the function at that point.\n",
    "The tangent line to the function $f(x)$ at the point $x=x_0$ is described by the equation\n",
    "\n",
    "$$\n",
    "   T_1(x) =  f(x_0) \\ + \\  f'(x_0)(x-x_0).\n",
    "$$\n",
    "\n",
    "What is the equation of the tangent line to $f(x)=\\frac{1}{2}x^2$ at $x_0=1$?"
   ]
  },
  {
   "cell_type": "code",
   "execution_count": 95,
   "metadata": {
    "collapsed": false
   },
   "outputs": [
    {
     "data": {
      "image/png": "[encoded data removed]",
      "text/latex": [
       "$$\\frac{x^{2}}{2}$$"
      ],
      "text/plain": [
       " 2\n",
       "x \n",
       "──\n",
       "2 "
      ]
     },
     "execution_count": 95,
     "metadata": {},
     "output_type": "execute_result"
    }
   ],
   "source": [
    "f = S('1/2')*x**2\n",
    "f"
   ]
  },
  {
   "cell_type": "code",
   "execution_count": 96,
   "metadata": {
    "collapsed": false
   },
   "outputs": [
    {
     "data": {
      "image/png": "[encoded data removed]",
      "text/latex": [
       "$$x$$"
      ],
      "text/plain": [
       "x"
      ]
     },
     "execution_count": 96,
     "metadata": {},
     "output_type": "execute_result"
    }
   ],
   "source": [
    "df = diff(f,x)\n",
    "df"
   ]
  },
  {
   "cell_type": "code",
   "execution_count": 97,
   "metadata": {
    "collapsed": false
   },
   "outputs": [
    {
     "data": {
      "image/png": "[encoded data removed]",
      "text/latex": [
       "$$x - \\frac{1}{2}$$"
      ],
      "text/plain": [
       "x - 1/2"
      ]
     },
     "execution_count": 97,
     "metadata": {},
     "output_type": "execute_result"
    }
   ],
   "source": [
    "T_1 = f.subs({x:1}) + df.subs({x:1})*(x - 1)\n",
    "T_1"
   ]
  },
  {
   "cell_type": "markdown",
   "metadata": {},
   "source": [
    "The tangent line $T_1(x)$ has the same value and slope as the function $f(x)$ at $x=1$:"
   ]
  },
  {
   "cell_type": "code",
   "execution_count": 98,
   "metadata": {
    "collapsed": false
   },
   "outputs": [
    {
     "data": {
      "text/plain": [
       "True"
      ]
     },
     "execution_count": 98,
     "metadata": {},
     "output_type": "execute_result"
    }
   ],
   "source": [
    "T_1.subs({x:1}) == f.subs({x:1})"
   ]
  },
  {
   "cell_type": "code",
   "execution_count": 99,
   "metadata": {
    "collapsed": false
   },
   "outputs": [
    {
     "data": {
      "text/plain": [
       "True"
      ]
     },
     "execution_count": 99,
     "metadata": {},
     "output_type": "execute_result"
    }
   ],
   "source": [
    "diff(T_1,x).subs({x:1}) == diff(f,x).subs({x:1})"
   ]
  },
  {
   "cell_type": "markdown",
   "metadata": {},
   "source": [
    "### Optimization"
   ]
  },
  {
   "cell_type": "markdown",
   "metadata": {},
   "source": [
    "Optimization is about choosing an input for a function $f(x)$ that results in the best value for $f(x)$.\n",
    "The best value usually means the *maximum* value \n",
    "(if the function represents something desirable like profits) \n",
    "or the *minimum* value \n",
    "(if the function represents something undesirable like costs).\n",
    "\n",
    "The derivative $f'(x)$ encodes the information about the *slope* of $f(x)$.\n",
    "Positive slope $f'(x)>0$ means $f(x)$ is increasing,\n",
    "negative slope $f'(x)<0$ means $f(x)$ is decreasing, \n",
    "and zero slope $f'(x)=0$ means the graph of the function is horizontal.\n",
    "The *critical points* of a function $f(x)$ are the solutions to the equation $f'(x)=0$.\n",
    "Each critical point is a candidate to be either a maximum or a minimum of the function.\n",
    "\n",
    "The second derivative $f^{\\prime\\prime}(x)$ encodes the information about the *curvature* of $f(x)$.\n",
    "Positive curvature means the function looks like $x^2$,\n",
    "negative curvature means the function looks like $-x^2$.\n",
    "\n",
    "Let's find the critical points of the function $f(x)=x^3-2x^2+x$ \n",
    "and use the information from its second derivative \n",
    "to find the maximum of the function \n",
    "on the interval $x \\in [0,1]$."
   ]
  },
  {
   "cell_type": "code",
   "execution_count": 100,
   "metadata": {
    "collapsed": false
   },
   "outputs": [
    {
     "data": {
      "image/png": "[encoded data removed]",
      "text/latex": [
       "$$3 x^{2} - 4 x + 1$$"
      ],
      "text/plain": [
       "   2          \n",
       "3⋅x  - 4⋅x + 1"
      ]
     },
     "execution_count": 100,
     "metadata": {},
     "output_type": "execute_result"
    }
   ],
   "source": [
    "x = Symbol('x')\n",
    "f = x**3-2*x**2+x\n",
    "diff(f, x)"
   ]
  },
  {
   "cell_type": "code",
   "execution_count": 101,
   "metadata": {
    "collapsed": false
   },
   "outputs": [
    {
     "data": {
      "image/png": "[encoded data removed]",
      "text/latex": [
       "$$\\left [ \\frac{1}{3}, \\quad 1\\right ]$$"
      ],
      "text/plain": [
       "[1/3, 1]"
      ]
     },
     "execution_count": 101,
     "metadata": {},
     "output_type": "execute_result"
    }
   ],
   "source": [
    "sols = solve( diff(f,x),  x)\n",
    "sols"
   ]
  },
  {
   "cell_type": "code",
   "execution_count": 102,
   "metadata": {
    "collapsed": false
   },
   "outputs": [
    {
     "data": {
      "image/png": "[encoded data removed]",
      "text/latex": [
       "$$-2$$"
      ],
      "text/plain": [
       "-2"
      ]
     },
     "execution_count": 102,
     "metadata": {},
     "output_type": "execute_result"
    }
   ],
   "source": [
    "diff(diff(f,x), x).subs( {x:sols[0]} )"
   ]
  },
  {
   "cell_type": "code",
   "execution_count": 103,
   "metadata": {
    "collapsed": false
   },
   "outputs": [
    {
     "data": {
      "image/png": "[encoded data removed]",
      "text/latex": [
       "$$2$$"
      ],
      "text/plain": [
       "2"
      ]
     },
     "execution_count": 103,
     "metadata": {},
     "output_type": "execute_result"
    }
   ],
   "source": [
    "diff(diff(f,x), x).subs( {x:sols[1]} )"
   ]
  },
  {
   "cell_type": "markdown",
   "metadata": {},
   "source": [
    "[It will help to look at the graph of this function.](https://www.google.com/#safe=off&q=plot+x**3-2*x**2%2Bx)\n",
    "The point $x=\\frac{1}{3}$ is a local maximum because it is a critical point of $f(x)$\n",
    "where the curvature is negative, meaning $f(x)$ looks like the peak of a mountain at $x=\\frac{1}{3}$.\n",
    "The maximum value of $f(x)$ on the interval $x\\in [0,1]$ is $f\\!\\left(\\frac{1}{3}\\right)=\\frac{4}{27}$.\n",
    "The point $x=1$ is a local minimum because it is a critical point\n",
    "with positive curvature, meaning $f(x)$ looks like the bottom of a valley at $x=1$."
   ]
  },
  {
   "cell_type": "markdown",
   "metadata": {},
   "source": [
    "### Integrals"
   ]
  },
  {
   "cell_type": "markdown",
   "metadata": {},
   "source": [
    "The *integral* of $f(x)$ corresponds to the computation of the area under the graph of $f(x)$.\n",
    "The area under $f(x)$ between the points $x=a$ and $x=b$ is denoted as follows:\n",
    "\n",
    "$$\n",
    " A(a,b) = \\int_a^b f(x) \\: dx.\n",
    "$$\n",
    "\n",
    "The *integral function* $F$ corresponds to the area calculation as a function \n",
    "of the upper limit of integration:\n",
    "\n",
    "$$\n",
    "  F(c) \\equiv \\int_0^c \\! f(x)\\:dx\\,.\n",
    "$$\n",
    "\n",
    "The area under $f(x)$ between $x=a$ and $x=b$ is obtained by \n",
    "calculating the *change* in the integral function:\n",
    "\n",
    "$$\n",
    "   A(a,b) = \\int_a^b \\! f(x)\\:dx  =  F(b)-F(a).\n",
    "$$\n",
    "\n",
    "In `SymPy` we use `integrate(f, x)` to obtain the integral function $F(x)$ of any function $f(x)$:\n",
    "$F(x) = \\int_0^x f(u)\\,du$."
   ]
  },
  {
   "cell_type": "code",
   "execution_count": 104,
   "metadata": {
    "collapsed": false
   },
   "outputs": [
    {
     "data": {
      "image/png": "[encoded data removed]",
      "text/latex": [
       "$$\\frac{x^{4}}{4}$$"
      ],
      "text/plain": [
       " 4\n",
       "x \n",
       "──\n",
       "4 "
      ]
     },
     "execution_count": 104,
     "metadata": {},
     "output_type": "execute_result"
    }
   ],
   "source": [
    "integrate(x**3, x)"
   ]
  },
  {
   "cell_type": "code",
   "execution_count": 105,
   "metadata": {
    "collapsed": false
   },
   "outputs": [
    {
     "data": {
      "image/png": "[encoded data removed]",
      "text/latex": [
       "$$- \\cos{\\left (x \\right )}$$"
      ],
      "text/plain": [
       "-cos(x)"
      ]
     },
     "execution_count": 105,
     "metadata": {},
     "output_type": "execute_result"
    }
   ],
   "source": [
    "integrate(sin(x), x)"
   ]
  },
  {
   "cell_type": "code",
   "execution_count": 106,
   "metadata": {
    "collapsed": false
   },
   "outputs": [
    {
     "data": {
      "image/png": "[encoded data removed]",
      "text/latex": [
       "$$x \\log{\\left (x \\right )} - x$$"
      ],
      "text/plain": [
       "x⋅log(x) - x"
      ]
     },
     "execution_count": 106,
     "metadata": {},
     "output_type": "execute_result"
    }
   ],
   "source": [
    "integrate(ln(x), x)"
   ]
  },
  {
   "cell_type": "markdown",
   "metadata": {},
   "source": [
    "This is known as an *indefinite integral* since the limits of integration are not defined. \n",
    "\n",
    "In contrast, \n",
    "a *definite integral* computes the area under $f(x)$ between $x=a$ and $x=b$.\n",
    "Use `integrate(f, (x,a,b))` to compute the definite integrals of the form $A(a,b)=\\int_a^b f(x) \\, dx$:"
   ]
  },
  {
   "cell_type": "code",
   "execution_count": 107,
   "metadata": {
    "collapsed": false
   },
   "outputs": [
    {
     "data": {
      "image/png": "[encoded data removed]",
      "text/latex": [
       "$$\\frac{1}{4}$$"
      ],
      "text/plain": [
       "1/4"
      ]
     },
     "execution_count": 107,
     "metadata": {},
     "output_type": "execute_result"
    }
   ],
   "source": [
    "integrate(x**3, (x,0,1))  # the area under x^3 from x=0 to x=1"
   ]
  },
  {
   "cell_type": "markdown",
   "metadata": {},
   "source": [
    "We can obtain the same area by first calculating the indefinite integral $F(c)=\\int_0^c \\!f(x)\\,dx$,\n",
    "then using $A(a,b) = F(x)\\big\\vert_a^b \\equiv F(b) - F(a)$:"
   ]
  },
  {
   "cell_type": "code",
   "execution_count": 108,
   "metadata": {
    "collapsed": false
   },
   "outputs": [
    {
     "data": {
      "image/png": "[encoded data removed]",
      "text/latex": [
       "$$\\frac{1}{4}$$"
      ],
      "text/plain": [
       "1/4"
      ]
     },
     "execution_count": 108,
     "metadata": {},
     "output_type": "execute_result"
    }
   ],
   "source": [
    "F = integrate(x**3, x)\n",
    "F.subs({x:1}) - F.subs({x:0})"
   ]
  },
  {
   "cell_type": "markdown",
   "metadata": {},
   "source": [
    "Integrals correspond to *signed* area calculations:"
   ]
  },
  {
   "cell_type": "code",
   "execution_count": 109,
   "metadata": {
    "collapsed": false
   },
   "outputs": [
    {
     "data": {
      "image/png": "[encoded data removed]",
      "text/latex": [
       "$$2$$"
      ],
      "text/plain": [
       "2"
      ]
     },
     "execution_count": 109,
     "metadata": {},
     "output_type": "execute_result"
    }
   ],
   "source": [
    "integrate(sin(x), (x,0,pi))"
   ]
  },
  {
   "cell_type": "code",
   "execution_count": 110,
   "metadata": {
    "collapsed": false
   },
   "outputs": [
    {
     "data": {
      "image/png": "[encoded data removed]",
      "text/latex": [
       "$$-2$$"
      ],
      "text/plain": [
       "-2"
      ]
     },
     "execution_count": 110,
     "metadata": {},
     "output_type": "execute_result"
    }
   ],
   "source": [
    "integrate(sin(x), (x,pi,2*pi))"
   ]
  },
  {
   "cell_type": "code",
   "execution_count": 111,
   "metadata": {
    "collapsed": false
   },
   "outputs": [
    {
     "data": {
      "image/png": "[encoded data removed]",
      "text/latex": [
       "$$0$$"
      ],
      "text/plain": [
       "0"
      ]
     },
     "execution_count": 111,
     "metadata": {},
     "output_type": "execute_result"
    }
   ],
   "source": [
    "integrate(sin(x), (x,0,2*pi))"
   ]
  },
  {
   "cell_type": "markdown",
   "metadata": {},
   "source": [
    "During the first half of its $2\\pi$-cycle,\n",
    "the graph of $\\sin(x)$ is above the $x$-axis, so it has a positive contribution to the area under the curve.\n",
    "During the second half of its cycle (from $x=\\pi$ to $x=2\\pi$),\n",
    "$\\sin(x)$ is below the $x$-axis, so it contributes negative area.\n",
    "Draw a graph of $\\sin(x)$ to see what is going on."
   ]
  },
  {
   "cell_type": "markdown",
   "metadata": {},
   "source": [
    "### Fundamental theorem of calculus"
   ]
  },
  {
   "cell_type": "markdown",
   "metadata": {},
   "source": [
    "The integral is the &ldquo;inverse operation&rdquo; of the derivative.\n",
    "If you perform the integral operation followed by the derivative operation on some function, \n",
    "you'll obtain the same function:\n",
    "\n",
    "$$\n",
    "  \\left(\\frac{d}{dx} \\circ \\int dx \\right) f(x) \\equiv \\frac{d}{dx} \\int_c^x f(u)\\:du = f(x).\n",
    "$$"
   ]
  },
  {
   "cell_type": "code",
   "execution_count": 112,
   "metadata": {
    "collapsed": false
   },
   "outputs": [
    {
     "data": {
      "image/png": "[encoded data removed]",
      "text/latex": [
       "$$\\frac{x^{3}}{3}$$"
      ],
      "text/plain": [
       " 3\n",
       "x \n",
       "──\n",
       "3 "
      ]
     },
     "execution_count": 112,
     "metadata": {},
     "output_type": "execute_result"
    }
   ],
   "source": [
    "f = x**2\n",
    "F = integrate(f, x)\n",
    "F"
   ]
  },
  {
   "cell_type": "code",
   "execution_count": 113,
   "metadata": {
    "collapsed": false
   },
   "outputs": [
    {
     "data": {
      "image/png": "[encoded data removed]",
      "text/latex": [
       "$$x^{2}$$"
      ],
      "text/plain": [
       " 2\n",
       "x "
      ]
     },
     "execution_count": 113,
     "metadata": {},
     "output_type": "execute_result"
    }
   ],
   "source": [
    "diff(F,x)"
   ]
  },
  {
   "cell_type": "markdown",
   "metadata": {},
   "source": [
    "Alternately, if you compute the derivative of a function followed by the integral,\n",
    "you will obtain the original function $f(x)$ (up to a constant):\n",
    "\n",
    "$$\n",
    "  \\left( \\int dx \\circ \\frac{d}{dx}\\right) f(x) \\equiv \\int_c^x f'(u)\\;du = f(x) + C.\n",
    "$$"
   ]
  },
  {
   "cell_type": "code",
   "execution_count": 114,
   "metadata": {
    "collapsed": false
   },
   "outputs": [
    {
     "data": {
      "image/png": "[encoded data removed]",
      "text/latex": [
       "$$2 x$$"
      ],
      "text/plain": [
       "2⋅x"
      ]
     },
     "execution_count": 114,
     "metadata": {},
     "output_type": "execute_result"
    }
   ],
   "source": [
    "f = x**2\n",
    "df = diff(f,x)\n",
    "df"
   ]
  },
  {
   "cell_type": "code",
   "execution_count": 115,
   "metadata": {
    "collapsed": false
   },
   "outputs": [
    {
     "data": {
      "image/png": "[encoded data removed]",
      "text/latex": [
       "$$x^{2}$$"
      ],
      "text/plain": [
       " 2\n",
       "x "
      ]
     },
     "execution_count": 115,
     "metadata": {},
     "output_type": "execute_result"
    }
   ],
   "source": [
    "integrate(df, x)"
   ]
  },
  {
   "cell_type": "markdown",
   "metadata": {},
   "source": [
    "The fundamental theorem of calculus is important because it tells us how to solve differential equations.\n",
    "If we have to solve for $f(x)$ in the differential equation $\\frac{d}{dx}f(x) = g(x)$,\n",
    "we can take the integral on both sides of the equation to obtain the answer $f(x) = \\int g(x)\\,dx + C$."
   ]
  },
  {
   "cell_type": "markdown",
   "metadata": {},
   "source": [
    "### Sequences"
   ]
  },
  {
   "cell_type": "markdown",
   "metadata": {},
   "source": [
    "Sequences are functions that take whole numbers as inputs.\n",
    "Instead of continuous inputs $x\\in \\mathbb{R}$,\n",
    "sequences take natural numbers $n\\in\\mathbb{N}$ as inputs.\n",
    "We denote sequences as $a_n$ instead of the usual function notation $a(n)$.\n",
    "\n",
    "We define a sequence by specifying an expression for its $n^\\mathrm{th}$ term:"
   ]
  },
  {
   "cell_type": "code",
   "execution_count": 116,
   "metadata": {
    "collapsed": false
   },
   "outputs": [],
   "source": [
    "a_n = 1/n\n",
    "b_n = 1/factorial(n)"
   ]
  },
  {
   "cell_type": "markdown",
   "metadata": {},
   "source": [
    "Substitute the desired value of $n$ to see the value of the $n^\\mathrm{th}$ term:"
   ]
  },
  {
   "cell_type": "code",
   "execution_count": 117,
   "metadata": {
    "collapsed": false
   },
   "outputs": [
    {
     "data": {
      "image/png": "[encoded data removed]",
      "text/latex": [
       "$$\\frac{1}{5}$$"
      ],
      "text/plain": [
       "1/5"
      ]
     },
     "execution_count": 117,
     "metadata": {},
     "output_type": "execute_result"
    }
   ],
   "source": [
    "a_n.subs({n:5})"
   ]
  },
  {
   "cell_type": "markdown",
   "metadata": {},
   "source": [
    "The `Python` list comprehension syntax `[item for item in list]`\n",
    "can be used to print the sequence values for some range of indices:"
   ]
  },
  {
   "cell_type": "code",
   "execution_count": 118,
   "metadata": {
    "collapsed": false
   },
   "outputs": [
    {
     "data": {
      "image/png": "[encoded data removed]",
      "text/latex": [
       "$$\\left [ \\tilde{\\infty}, \\quad 1, \\quad \\frac{1}{2}, \\quad \\frac{1}{3}, \\quad \\frac{1}{4}, \\quad \\frac{1}{5}, \\quad \\frac{1}{6}, \\quad \\frac{1}{7}\\right ]$$"
      ],
      "text/plain": [
       "[zoo, 1, 1/2, 1/3, 1/4, 1/5, 1/6, 1/7]"
      ]
     },
     "execution_count": 118,
     "metadata": {},
     "output_type": "execute_result"
    }
   ],
   "source": [
    "[ a_n.subs({n:i}) for i in range(0,8) ]"
   ]
  },
  {
   "cell_type": "code",
   "execution_count": 119,
   "metadata": {
    "collapsed": false
   },
   "outputs": [
    {
     "data": {
      "image/png": "[encoded data removed]",
      "text/latex": [
       "$$\\left [ 1, \\quad 1, \\quad \\frac{1}{2}, \\quad \\frac{1}{6}, \\quad \\frac{1}{24}, \\quad \\frac{1}{120}, \\quad \\frac{1}{720}, \\quad \\frac{1}{5040}\\right ]$$"
      ],
      "text/plain": [
       "[1, 1, 1/2, 1/6, 1/24, 1/120, 1/720, 1/5040]"
      ]
     },
     "execution_count": 119,
     "metadata": {},
     "output_type": "execute_result"
    }
   ],
   "source": [
    "[ b_n.subs({n:i}) for i in range(0,8) ]"
   ]
  },
  {
   "cell_type": "markdown",
   "metadata": {},
   "source": [
    "Observe that $a_n$ is not properly defined for $n=0$ since $\\frac{1}{0}$ is a division-by-zero error.\n",
    "To be precise, we should say $a_n$'s domain is the positive naturals $a_n:\\mathbb{N}^+ \\to \\mathbb{R}$.\n",
    "Observe how quickly the `factorial` function $n!=1\\cdot2\\cdot3\\cdots(n-1)\\cdot n$ grows:\n",
    "$7!= 5040$, $10!=3628800$, $20! > 10^{18}$.\n",
    "\n",
    "We're often interested in calculating the limits of sequences as $n\\to \\infty$.\n",
    "What happens to the terms in the sequence when $n$ becomes large?"
   ]
  },
  {
   "cell_type": "code",
   "execution_count": 120,
   "metadata": {
    "collapsed": false
   },
   "outputs": [
    {
     "data": {
      "image/png": "[encoded data removed]",
      "text/latex": [
       "$$0$$"
      ],
      "text/plain": [
       "0"
      ]
     },
     "execution_count": 120,
     "metadata": {},
     "output_type": "execute_result"
    }
   ],
   "source": [
    "limit(a_n, n, oo)"
   ]
  },
  {
   "cell_type": "code",
   "execution_count": 121,
   "metadata": {
    "collapsed": false
   },
   "outputs": [
    {
     "data": {
      "image/png": "[encoded data removed]",
      "text/latex": [
       "$$0$$"
      ],
      "text/plain": [
       "0"
      ]
     },
     "execution_count": 121,
     "metadata": {},
     "output_type": "execute_result"
    }
   ],
   "source": [
    "limit(b_n, n, oo)"
   ]
  },
  {
   "cell_type": "markdown",
   "metadata": {},
   "source": [
    "Both $a_n=\\frac{1}{n}$ and $b_n = \\frac{1}{n!}$ *converge* to $0$ as $n\\to\\infty$. \n",
    "\n",
    "Many important math quantities are defined as limit expressions.\n",
    "An interesting example to consider is the number $\\pi$, \n",
    "which is defined as the area of a circle of radius $1$.\n",
    "We can approximate the area of the unit circle by drawing a many-sided regular polygon around the circle.\n",
    "Splitting the $n$-sided regular polygon into identical triangular splices,\n",
    "we can obtain a formula for its area $A_n$.\n",
    "In the limit as $n\\to \\infty$, \n",
    "the $n$-sided-polygon approximation to the area of the unit-circle becomes exact:"
   ]
  },
  {
   "cell_type": "code",
   "execution_count": 122,
   "metadata": {
    "collapsed": false
   },
   "outputs": [
    {
     "data": {
      "image/png": "[encoded data removed]",
      "text/latex": [
       "$$\\pi$$"
      ],
      "text/plain": [
       "π"
      ]
     },
     "execution_count": 122,
     "metadata": {},
     "output_type": "execute_result"
    }
   ],
   "source": [
    "A_n = n*tan(2*pi/(2*n))\n",
    "limit(A_n, n, oo)"
   ]
  },
  {
   "cell_type": "markdown",
   "metadata": {},
   "source": [
    "### Series"
   ]
  },
  {
   "cell_type": "markdown",
   "metadata": {},
   "source": [
    "Suppose we're given a sequence $a_n$ and we want to compute the sum of all the values in this sequence $\\sum_{n}^\\infty a_n$.\n",
    "Series are sums of sequences.\n",
    "Summing the values of a sequence $a_n:\\mathbb{N}\\to \\mathbb{R}$\n",
    "is analogous to taking the integral of a function $f:\\mathbb{R}\\to \\mathbb{R}$.\n",
    "\n",
    "To work with series in `SymPy`,\n",
    "use the `summation` function whose syntax is analogous to the `integrate` function: "
   ]
  },
  {
   "cell_type": "code",
   "execution_count": 123,
   "metadata": {
    "collapsed": false
   },
   "outputs": [
    {
     "data": {
      "image/png": "[encoded data removed]",
      "text/latex": [
       "$$\\infty$$"
      ],
      "text/plain": [
       "∞"
      ]
     },
     "execution_count": 123,
     "metadata": {},
     "output_type": "execute_result"
    }
   ],
   "source": [
    "a_n = 1/n\n",
    "summation(a_n, [n, 1, oo])"
   ]
  },
  {
   "cell_type": "code",
   "execution_count": 124,
   "metadata": {
    "collapsed": false
   },
   "outputs": [
    {
     "data": {
      "image/png": "[encoded data removed]",
      "text/latex": [
       "$$e$$"
      ],
      "text/plain": [
       "ℯ"
      ]
     },
     "execution_count": 124,
     "metadata": {},
     "output_type": "execute_result"
    }
   ],
   "source": [
    "b_n = 1/factorial(n)\n",
    "summation(b_n, [n, 0, oo])"
   ]
  },
  {
   "cell_type": "markdown",
   "metadata": {},
   "source": [
    "We say the series $\\sum a_n$ *diverges* to infinity (or *is divergent*) while the series $\\sum b_n$ converges (or *is convergent*).\n",
    "As we sum together more and more terms of the sequence $b_n$, the total becomes closer and closer to some finite number.\n",
    "In this case, the infinite sum $\\sum_{n=0}^\\infty \\frac{1}{n!}$ converges to the number $e=2.71828\\ldots$.\n",
    "\n",
    "\n",
    "The `summation` command is useful because it allows us to compute `infinite` sums,\n",
    "but for most practical applications we don't need to take an infinite number of terms in a series to obtain a good approximation. \n",
    "This is why series are so neat: they represent a great way to obtain approximations.\n",
    "\n",
    "Using standard `Python` commands,  \n",
    "we can obtain an approximation to $e$ that is accurate to six decimals by summing 10 terms in the series:"
   ]
  },
  {
   "cell_type": "code",
   "execution_count": 125,
   "metadata": {
    "collapsed": false
   },
   "outputs": [
    {
     "data": {
      "image/png": "[encoded data removed]",
      "text/latex": [
       "$$2.7182815255731922$$"
      ],
      "text/plain": [
       "2.7182815255731922"
      ]
     },
     "execution_count": 125,
     "metadata": {},
     "output_type": "execute_result"
    }
   ],
   "source": [
    "import math\n",
    "def b_nf(n): \n",
    "    return 1.0/math.factorial(n)\n",
    "sum( [b_nf(n) for n in range(0,10)] )"
   ]
  },
  {
   "cell_type": "code",
   "execution_count": 126,
   "metadata": {
    "collapsed": false
   },
   "outputs": [
    {
     "data": {
      "image/png": "[encoded data removed]",
      "text/latex": [
       "$$2.71828182845905$$"
      ],
      "text/plain": [
       "2.71828182845905"
      ]
     },
     "execution_count": 126,
     "metadata": {},
     "output_type": "execute_result"
    }
   ],
   "source": [
    "E.evalf()  # true value"
   ]
  },
  {
   "cell_type": "markdown",
   "metadata": {},
   "source": [
    "### Taylor series"
   ]
  },
  {
   "cell_type": "markdown",
   "metadata": {},
   "source": [
    "Wait, there's more! \n",
    "Not only can we use series to approximate numbers,\n",
    "we can also use them to approximate functions.\n",
    "\n",
    "A *power series* is a series whose terms contain different powers of the variable $x$.\n",
    "The $n^\\mathrm{th}$ term in a power series is a function of both the sequence index $n$ and the input variable $x$.\n",
    "\n",
    "For example, the power series of the function $\\exp(x)=e^x$ is \n",
    "\n",
    "$$\n",
    " \\exp(x) \\equiv  1 + x + \\frac{x^2}{2} + \\frac{x^3}{3!} + \\frac{x^4}{4!} + \\frac{x^5}{5!} + \\cdots         \n",
    "  =       \\sum_{n=0}^\\infty \\frac{x^n}{n!}.\n",
    "$$\n",
    "\n",
    "This is, IMHO, one of the most important ideas in calculus:\n",
    "you can compute the value of $\\exp(5)$ by taking the infinite sum of the terms in the power series with $x=5$:"
   ]
  },
  {
   "cell_type": "code",
   "execution_count": 127,
   "metadata": {
    "collapsed": false
   },
   "outputs": [
    {
     "data": {
      "image/png": "[encoded data removed]",
      "text/latex": [
       "$$148.413159102577$$"
      ],
      "text/plain": [
       "148.413159102577"
      ]
     },
     "execution_count": 127,
     "metadata": {},
     "output_type": "execute_result"
    }
   ],
   "source": [
    "exp_xn = x**n/factorial(n)\n",
    "summation( exp_xn.subs({x:5}), [n, 0, oo] ).evalf()"
   ]
  },
  {
   "cell_type": "code",
   "execution_count": 128,
   "metadata": {
    "collapsed": false
   },
   "outputs": [
    {
     "data": {
      "image/png": "[encoded data removed]",
      "text/latex": [
       "$$148.413159102577$$"
      ],
      "text/plain": [
       "148.413159102577"
      ]
     },
     "execution_count": 128,
     "metadata": {},
     "output_type": "execute_result"
    }
   ],
   "source": [
    "exp(5).evalf()  # the true value"
   ]
  },
  {
   "cell_type": "markdown",
   "metadata": {},
   "source": [
    "Note that `SymPy` is actually smart enough to recognize that the infinite series\n",
    "you're computing corresponds to the closed-form expression $e^5$:"
   ]
  },
  {
   "cell_type": "code",
   "execution_count": 129,
   "metadata": {
    "collapsed": false
   },
   "outputs": [
    {
     "data": {
      "image/png": "[encoded data removed]",
      "text/latex": [
       "$$e^{5}$$"
      ],
      "text/plain": [
       " 5\n",
       "ℯ "
      ]
     },
     "execution_count": 129,
     "metadata": {},
     "output_type": "execute_result"
    }
   ],
   "source": [
    "summation( exp_xn.subs({x:5}), [n, 0, oo])"
   ]
  },
  {
   "cell_type": "markdown",
   "metadata": {},
   "source": [
    "Taking as few as 35 terms in the series is sufficient to obtain an approximation to $e$\n",
    "that is accurate to 16 decimals:"
   ]
  },
  {
   "cell_type": "code",
   "execution_count": 130,
   "metadata": {
    "collapsed": false
   },
   "outputs": [
    {
     "data": {
      "image/png": "[encoded data removed]",
      "text/latex": [
       "$$148.41315910257657$$"
      ],
      "text/plain": [
       "148.41315910257657"
      ]
     },
     "execution_count": 130,
     "metadata": {},
     "output_type": "execute_result"
    }
   ],
   "source": [
    "import math  # redo using only python \n",
    "def exp_xnf(x,n): \n",
    "    return x**n/math.factorial(n)\n",
    "sum( [exp_xnf(5.0,i) for i in range(0,35)] )"
   ]
  },
  {
   "cell_type": "markdown",
   "metadata": {},
   "source": [
    "The coefficients in the power series of a function (also known as the *Taylor series*) \n",
    "The formula for the $n^\\mathrm{th}$ term in the Taylor series of $f(x)$ expanded at $x=c$ is $a_n(x) = \\frac{f^{(n)}(c)}{n!}(x-c)^n$,\n",
    "where $f^{(n)}(c)$ is the value of the $n^\\mathrm{th}$ derivative of $f(x)$ evaluated at $x=c$.\n",
    "The term *Maclaurin series* refers to Taylor series expansions at $x=0$.\n",
    "\n",
    "The `SymPy` function `series` is a convenient way to obtain the series of any function.\n",
    "Calling `series(expr,var,at,nmax)` \n",
    "will show you the series expansion of `expr` \n",
    "near `var`=`at` \n",
    "up to power `nmax`:"
   ]
  },
  {
   "cell_type": "code",
   "execution_count": 131,
   "metadata": {
    "collapsed": false
   },
   "outputs": [
    {
     "data": {
      "image/png": "[encoded data removed]",
      "text/latex": [
       "$$x - \\frac{x^{3}}{6} + \\frac{x^{5}}{120} - \\frac{x^{7}}{5040} + \\mathcal{O}\\left(x^{8}\\right)$$"
      ],
      "text/plain": [
       "     3     5     7         \n",
       "    x     x     x      ⎛ 8⎞\n",
       "x - ── + ─── - ──── + O⎝x ⎠\n",
       "    6    120   5040        "
      ]
     },
     "execution_count": 131,
     "metadata": {},
     "output_type": "execute_result"
    }
   ],
   "source": [
    "series( sin(x), x, 0, 8)"
   ]
  },
  {
   "cell_type": "code",
   "execution_count": 132,
   "metadata": {
    "collapsed": false
   },
   "outputs": [
    {
     "data": {
      "image/png": "[encoded data removed]",
      "text/latex": [
       "$$1 - \\frac{x^{2}}{2} + \\frac{x^{4}}{24} - \\frac{x^{6}}{720} + \\mathcal{O}\\left(x^{8}\\right)$$"
      ],
      "text/plain": [
       "     2    4     6        \n",
       "    x    x     x     ⎛ 8⎞\n",
       "1 - ── + ── - ─── + O⎝x ⎠\n",
       "    2    24   720        "
      ]
     },
     "execution_count": 132,
     "metadata": {},
     "output_type": "execute_result"
    }
   ],
   "source": [
    "series( cos(x), x, 0, 8)"
   ]
  },
  {
   "cell_type": "code",
   "execution_count": 133,
   "metadata": {
    "collapsed": false
   },
   "outputs": [
    {
     "data": {
      "image/png": "[encoded data removed]",
      "text/latex": [
       "$$x + \\frac{x^{3}}{6} + \\frac{x^{5}}{120} + \\frac{x^{7}}{5040} + \\mathcal{O}\\left(x^{8}\\right)$$"
      ],
      "text/plain": [
       "     3     5     7         \n",
       "    x     x     x      ⎛ 8⎞\n",
       "x + ── + ─── + ──── + O⎝x ⎠\n",
       "    6    120   5040        "
      ]
     },
     "execution_count": 133,
     "metadata": {},
     "output_type": "execute_result"
    }
   ],
   "source": [
    "series( sinh(x), x, 0, 8)"
   ]
  },
  {
   "cell_type": "code",
   "execution_count": 134,
   "metadata": {
    "collapsed": false
   },
   "outputs": [
    {
     "data": {
      "image/png": "[encoded data removed]",
      "text/latex": [
       "$$1 + \\frac{x^{2}}{2} + \\frac{x^{4}}{24} + \\frac{x^{6}}{720} + \\mathcal{O}\\left(x^{8}\\right)$$"
      ],
      "text/plain": [
       "     2    4     6        \n",
       "    x    x     x     ⎛ 8⎞\n",
       "1 + ── + ── + ─── + O⎝x ⎠\n",
       "    2    24   720        "
      ]
     },
     "execution_count": 134,
     "metadata": {},
     "output_type": "execute_result"
    }
   ],
   "source": [
    "series( cosh(x), x, 0, 8)"
   ]
  },
  {
   "cell_type": "markdown",
   "metadata": {},
   "source": [
    "Some functions are not defined at $x=0$, so we expand them at a different value of $x$.\n",
    "For example, the power series of $\\ln(x)$ expanded at $x=1$ is"
   ]
  },
  {
   "cell_type": "code",
   "execution_count": 135,
   "metadata": {
    "collapsed": false
   },
   "outputs": [
    {
     "data": {
      "image/png": "[encoded data removed]",
      "text/latex": [
       "$$-1 - \\frac{1}{2} \\left(x - 1\\right)^{2} + \\frac{1}{3} \\left(x - 1\\right)^{3} - \\frac{1}{4} \\left(x - 1\\right)^{4} + \\frac{1}{5} \\left(x - 1\\right)^{5} + x + \\mathcal{O}\\left(\\left(x - 1\\right)^{6}; x\\rightarrow1\\right)$$"
      ],
      "text/plain": [
       "            2          3          4          5                         \n",
       "     (x - 1)    (x - 1)    (x - 1)    (x - 1)         ⎛       6       ⎞\n",
       "-1 - ──────── + ──────── - ──────── + ──────── + x + O⎝(x - 1) ; x → 1⎠\n",
       "        2          3          4          5                             "
      ]
     },
     "execution_count": 135,
     "metadata": {},
     "output_type": "execute_result"
    }
   ],
   "source": [
    "series(ln(x), x, 1, 6)  # Taylor series of ln(x) at x=1"
   ]
  },
  {
   "cell_type": "markdown",
   "metadata": {},
   "source": [
    "Here, the result `SymPy` returns is misleading.\n",
    "The Taylor series of $\\ln(x)$ expanded at $x=1$ has terms of the form $(x-1)^n$:\n",
    "\n",
    "$$\n",
    "  \\ln(x) = (x-1) - \\frac{(x-1)^2}{2} + \\frac{(x-1)^3}{3} - \\frac{(x-1)^4}{4} + \\frac{(x-1)^5}{5} + \\cdots.\n",
    "$$\n",
    "\n",
    "Verify this is the correct formula by substituting $x=1$.\n",
    "`SymPy` returns an answer in terms of coordinates `relative` to $x=1$.\n",
    "\n",
    "Instead of expanding $\\ln(x)$ around $x=1$,\n",
    "we can obtain an equivalent expression if we expand $\\ln(x+1)$ around $x=0$:"
   ]
  },
  {
   "cell_type": "code",
   "execution_count": 136,
   "metadata": {
    "collapsed": false
   },
   "outputs": [
    {
     "data": {
      "image/png": "[encoded data removed]",
      "text/latex": [
       "$$x - \\frac{x^{2}}{2} + \\frac{x^{3}}{3} - \\frac{x^{4}}{4} + \\frac{x^{5}}{5} + \\mathcal{O}\\left(x^{6}\\right)$$"
      ],
      "text/plain": [
       "     2    3    4    5        \n",
       "    x    x    x    x     ⎛ 6⎞\n",
       "x - ── + ── - ── + ── + O⎝x ⎠\n",
       "    2    3    4    5         "
      ]
     },
     "execution_count": 136,
     "metadata": {},
     "output_type": "execute_result"
    }
   ],
   "source": [
    "series(ln(x+1), x, 0, 6)  # Maclaurin series of ln(x+1)"
   ]
  }
 ],
 "metadata": {
  "kernelspec": {
   "display_name": "Python 3",
   "language": "python",
   "name": "python3"
  },
  "language_info": {
   "codemirror_mode": {
    "name": "ipython",
    "version": 3
   },
   "file_extension": ".py",
   "mimetype": "text/x-python",
   "name": "python",
   "nbconvert_exporter": "python",
   "pygments_lexer": "ipython3",
   "version": "3.4.3"
  }
 },
 "nbformat": 4,
 "nbformat_minor": 0
}
