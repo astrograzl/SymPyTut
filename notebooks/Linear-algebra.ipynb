{
 "cells": [
  {
   "cell_type": "markdown",
   "metadata": {},
   "source": [
    "## Linear algebra"
   ]
  },
  {
   "cell_type": "markdown",
   "metadata": {},
   "source": [
    "A matrix $A \\in \\mathbb{R}^{m\\times n}$ is a rectangular array of real numbers with $m$ rows and $n$ columns.\n",
    "To specify a matrix $A$, we specify the values for its $mn$ components $a_{11}, a_{12}, \\ldots, a_{mn}$\n",
    "as a list of lists:"
   ]
  },
  {
   "cell_type": "code",
   "execution_count": 176,
   "metadata": {
    "collapsed": false
   },
   "outputs": [],
   "source": [
    "A = Matrix( [[ 2,-3,-8, 7],\n",
    "             [-2,-1, 2,-7],\n",
    "             [ 1, 0,-3, 6]] )"
   ]
  },
  {
   "cell_type": "markdown",
   "metadata": {},
   "source": [
    "Use the square brackets to access the matrix elements or to obtain a submatrix:"
   ]
  },
  {
   "cell_type": "code",
   "execution_count": 177,
   "metadata": {
    "collapsed": false
   },
   "outputs": [
    {
     "data": {
      "image/png": "[encoded data removed]",
      "text/latex": [
       "$$-3$$"
      ],
      "text/plain": [
       "-3"
      ]
     },
     "execution_count": 177,
     "metadata": {},
     "output_type": "execute_result"
    }
   ],
   "source": [
    "A[0,1]         # row 0, col 1 of A"
   ]
  },
  {
   "cell_type": "code",
   "execution_count": 178,
   "metadata": {
    "collapsed": false
   },
   "outputs": [
    {
     "data": {
      "image/png": "[encoded data removed]",
      "text/latex": [
       "$$\\left[\\begin{matrix}2 & -3 & -8\\\\-2 & -1 & 2\\end{matrix}\\right]$$"
      ],
      "text/plain": [
       "⎡2   -3  -8⎤\n",
       "⎢          ⎥\n",
       "⎣-2  -1  2 ⎦"
      ]
     },
     "execution_count": 178,
     "metadata": {},
     "output_type": "execute_result"
    }
   ],
   "source": [
    "A[0:2,0:3]     # top-left 2x3 submatrix of A"
   ]
  },
  {
   "cell_type": "markdown",
   "metadata": {},
   "source": [
    "Some commonly used matrices can be created with shortcut methods:"
   ]
  },
  {
   "cell_type": "code",
   "execution_count": 179,
   "metadata": {
    "collapsed": false
   },
   "outputs": [
    {
     "data": {
      "image/png": "[encoded data removed]",
      "text/latex": [
       "$$\\left[\\begin{matrix}1 & 0\\\\0 & 1\\end{matrix}\\right]$$"
      ],
      "text/plain": [
       "⎡1  0⎤\n",
       "⎢    ⎥\n",
       "⎣0  1⎦"
      ]
     },
     "execution_count": 179,
     "metadata": {},
     "output_type": "execute_result"
    }
   ],
   "source": [
    "eye(2)         # 2x2 identity matrix"
   ]
  },
  {
   "cell_type": "code",
   "execution_count": 180,
   "metadata": {
    "collapsed": false
   },
   "outputs": [
    {
     "data": {
      "image/png": "[encoded data removed]",
      "text/latex": [
       "$$\\left[\\begin{matrix}0 & 0 & 0\\\\0 & 0 & 0\\end{matrix}\\right]$$"
      ],
      "text/plain": [
       "⎡0  0  0⎤\n",
       "⎢       ⎥\n",
       "⎣0  0  0⎦"
      ]
     },
     "execution_count": 180,
     "metadata": {},
     "output_type": "execute_result"
    }
   ],
   "source": [
    "zeros(2, 3)"
   ]
  },
  {
   "cell_type": "markdown",
   "metadata": {},
   "source": [
    "Standard algebraic operations like \n",
    "addition `+`, subtraction `-`, multiplication `*`,\n",
    "and exponentiation `**` work as expected for `Matrix` objects.\n",
    "The `transpose` operation flips the matrix through its diagonal:"
   ]
  },
  {
   "cell_type": "code",
   "execution_count": 181,
   "metadata": {
    "collapsed": false
   },
   "outputs": [
    {
     "data": {
      "image/png": "[encoded data removed]",
      "text/latex": [
       "$$\\left[\\begin{matrix}2 & -2 & 1\\\\-3 & -1 & 0\\\\-8 & 2 & -3\\\\7 & -7 & 6\\end{matrix}\\right]$$"
      ],
      "text/plain": [
       "⎡2   -2  1 ⎤\n",
       "⎢          ⎥\n",
       "⎢-3  -1  0 ⎥\n",
       "⎢          ⎥\n",
       "⎢-8  2   -3⎥\n",
       "⎢          ⎥\n",
       "⎣7   -7  6 ⎦"
      ]
     },
     "execution_count": 181,
     "metadata": {},
     "output_type": "execute_result"
    }
   ],
   "source": [
    "A.transpose()  # the same as A.T"
   ]
  },
  {
   "cell_type": "markdown",
   "metadata": {},
   "source": [
    "Recall that the transpose is also used to convert row vectors into column vectors and vice versa."
   ]
  },
  {
   "cell_type": "markdown",
   "metadata": {},
   "source": [
    "### Row operations"
   ]
  },
  {
   "cell_type": "code",
   "execution_count": 182,
   "metadata": {
    "collapsed": false
   },
   "outputs": [
    {
     "data": {
      "image/png": "[encoded data removed]",
      "text/latex": [
       "$$\\left[\\begin{matrix}1 & 0 & 0\\\\3 & 1 & 0\\\\0 & 0 & 1\\end{matrix}\\right]$$"
      ],
      "text/plain": [
       "⎡1  0  0⎤\n",
       "⎢       ⎥\n",
       "⎢3  1  0⎥\n",
       "⎢       ⎥\n",
       "⎣0  0  1⎦"
      ]
     },
     "execution_count": 182,
     "metadata": {},
     "output_type": "execute_result"
    }
   ],
   "source": [
    "M = eye(3)\n",
    "M[1,:] = M[1,:] + 3*M[0,:]\n",
    "M"
   ]
  },
  {
   "cell_type": "markdown",
   "metadata": {},
   "source": [
    "The notation `M[i,:]` refers to entire rows of the matrix.\n",
    "The first argument specifies the $0$-based row index,\n",
    "for example the first row of~`M` is `M[0,:]`.\n",
    "The code example above implements the row operation $R_2 \\gets R_2 + 3R_1$.\n",
    "\n",
    "To scale a row `i` by constant `c`, use the command `M[i,:] = c*M[i,:]`.\n",
    "\n",
    "To swap rows `i` and `j`, use can use the `Python` tuple-assignment syntax `M[i,:], M[j,:] = M[j,:], M[i,:]`."
   ]
  },
  {
   "cell_type": "markdown",
   "metadata": {},
   "source": [
    "### Reduced row echelon form"
   ]
  },
  {
   "cell_type": "markdown",
   "metadata": {},
   "source": [
    "The Gauss&mdash;Jordan elimination procedure is a sequence of row operations you can perform\n",
    "on any matrix to bring it to its *reduced row echelon form* (RREF).\n",
    "In `SymPy`, matrices have a `rref` method that computes their RREF:"
   ]
  },
  {
   "cell_type": "code",
   "execution_count": 183,
   "metadata": {
    "collapsed": false
   },
   "outputs": [
    {
     "data": {
      "image/png": "[encoded data removed]",
      "text/latex": [
       "$$\\left ( \\left[\\begin{matrix}1 & 0 & 0 & 0\\\\0 & 1 & 0 & 3\\\\0 & 0 & 1 & -2\\end{matrix}\\right], \\quad \\left [ 0, \\quad 1, \\quad 2\\right ]\\right )$$"
      ],
      "text/plain": [
       "⎛⎡1  0  0  0 ⎤, [0, 1, 2]⎞\n",
       "⎜⎢           ⎥           ⎟\n",
       "⎜⎢0  1  0  3 ⎥           ⎟\n",
       "⎜⎢           ⎥           ⎟\n",
       "⎝⎣0  0  1  -2⎦           ⎠"
      ]
     },
     "execution_count": 183,
     "metadata": {},
     "output_type": "execute_result"
    }
   ],
   "source": [
    "A = Matrix( [[2,-3,-8, 7],\n",
    "             [-2,-1,2,-7],\n",
    "             [1, 0,-3, 6]])\n",
    "A.rref()  # RREF of A, location of pivots"
   ]
  },
  {
   "cell_type": "markdown",
   "metadata": {},
   "source": [
    "Note the `rref` method returns a tuple of values:\n",
    "the first value is the RREF of $A$,\n",
    "while the second tells you the indices of the leading ones (also known as pivots) in the RREF of $A$.\n",
    "To get just the RREF of $A$, select the $0^\\mathrm{th}$ entry form the tuple: `A.rref()[0]`."
   ]
  },
  {
   "cell_type": "markdown",
   "metadata": {},
   "source": [
    "### Matrix fundamental spaces"
   ]
  },
  {
   "cell_type": "markdown",
   "metadata": {},
   "source": [
    "Consider the matrix $A \\in \\mathbb{R}^{m\\times n}$.\n",
    "The fundamental spaces of a matrix are its column space $\\mathcal{C}(A)$, \n",
    "its null space $\\mathcal{N}(A)$,\n",
    "and its row space $\\mathcal{R}(A)$.\n",
    "These vector spaces are important when you consider the matrix product\n",
    "$A\\vec{x}=\\vec{y}$ as &ldquo;applying&rdquo; the linear transformation $T_A:\\mathbb{R}^n \\to \\mathbb{R}^m$\n",
    "to an input vector $\\vec{x} \\in \\mathbb{R}^n$ to produce the output vector $\\vec{y} \\in \\mathbb{R}^m$.\n",
    "\n",
    "**Linear transformations** $T_A:\\mathbb{R}^n \\to \\mathbb{R}^m$ (vector functions)\n",
    "**are equivalent to $m\\times n$ matrices**.\n",
    "This is one of the fundamental ideas in linear algebra.\n",
    "You can think of $T_A$ as the abstract description of the transformation \n",
    "and $A \\in \\mathbb{R}^{m\\times n}$ as a concrete implementation of $T_A$.\n",
    "By this equivalence, \n",
    "the fundamental spaces of a matrix $A$\n",
    "tell us facts about the domain and image of the linear transformation $T_A$.\n",
    "The columns space $\\mathcal{C}(A)$ is the same as the image space space $\\textrm{Im}(T_A)$ (the set of all possible outputs).\n",
    "The null space $\\mathcal{N}(A)$ is the same as the kernel $\\textrm{Ker}(T_A)$ (the set of inputs that $T_A$ maps to the zero vector).\n",
    "The row space $\\mathcal{R}(A)$ is the orthogonal complement of the null space.\n",
    "Input vectors in the row space of $A$ are in one-to-one correspondence with the output vectors in the column space of $A$.\n",
    "\n",
    "Okay, enough theory! Let's see how to compute the fundamental spaces of the matrix $A$ defined above.\n",
    "The non-zero rows in the reduced row echelon form of $A$ are a basis for its row space:"
   ]
  },
  {
   "cell_type": "code",
   "execution_count": 184,
   "metadata": {
    "collapsed": false
   },
   "outputs": [
    {
     "data": {
      "image/png": "[encoded data removed]",
      "text/latex": [
       "$$\\left [ \\left[\\begin{matrix}1 & 0 & 0 & 0\\end{matrix}\\right], \\quad \\left[\\begin{matrix}0 & 1 & 0 & 3\\end{matrix}\\right], \\quad \\left[\\begin{matrix}0 & 0 & 1 & -2\\end{matrix}\\right]\\right ]$$"
      ],
      "text/plain": [
       "[[1  0  0  0], [0  1  0  3], [0  0  1  -2]]"
      ]
     },
     "execution_count": 184,
     "metadata": {},
     "output_type": "execute_result"
    }
   ],
   "source": [
    "[ A.rref()[0][r,:] for r in A.rref()[1] ]  # R(A)"
   ]
  },
  {
   "cell_type": "markdown",
   "metadata": {},
   "source": [
    "The column space of $A$ is the span of the columns of $A$ that contain the pivots\n",
    "in the reduced row echelon form of $A$:"
   ]
  },
  {
   "cell_type": "code",
   "execution_count": 185,
   "metadata": {
    "collapsed": false
   },
   "outputs": [
    {
     "data": {
      "image/png": "[encoded data removed]",
      "text/latex": [
       "$$\\left [ \\left[\\begin{matrix}2\\\\-2\\\\1\\end{matrix}\\right], \\quad \\left[\\begin{matrix}-3\\\\-1\\\\0\\end{matrix}\\right], \\quad \\left[\\begin{matrix}-8\\\\2\\\\-3\\end{matrix}\\right]\\right ]$$"
      ],
      "text/plain": [
       "⎡⎡2 ⎤, ⎡-3⎤, ⎡-8⎤⎤\n",
       "⎢⎢  ⎥  ⎢  ⎥  ⎢  ⎥⎥\n",
       "⎢⎢-2⎥  ⎢-1⎥  ⎢2 ⎥⎥\n",
       "⎢⎢  ⎥  ⎢  ⎥  ⎢  ⎥⎥\n",
       "⎣⎣1 ⎦  ⎣0 ⎦  ⎣-3⎦⎦"
      ]
     },
     "execution_count": 185,
     "metadata": {},
     "output_type": "execute_result"
    }
   ],
   "source": [
    "[ A[:,c] for c in  A.rref()[1] ]           # C(A)"
   ]
  },
  {
   "cell_type": "markdown",
   "metadata": {},
   "source": [
    "Note we took columns from the original matrix $A$ and not its RREF.\n",
    "\n",
    "To find the null space of $A$, call its `nullspace` method:"
   ]
  },
  {
   "cell_type": "code",
   "execution_count": 186,
   "metadata": {
    "collapsed": false
   },
   "outputs": [
    {
     "data": {
      "image/png": "[encoded data removed]",
      "text/latex": [
       "$$\\left [ \\left[\\begin{matrix}0\\\\-3\\\\2\\\\1\\end{matrix}\\right]\\right ]$$"
      ],
      "text/plain": [
       "⎡⎡0 ⎤⎤\n",
       "⎢⎢  ⎥⎥\n",
       "⎢⎢-3⎥⎥\n",
       "⎢⎢  ⎥⎥\n",
       "⎢⎢2 ⎥⎥\n",
       "⎢⎢  ⎥⎥\n",
       "⎣⎣1 ⎦⎦"
      ]
     },
     "execution_count": 186,
     "metadata": {},
     "output_type": "execute_result"
    }
   ],
   "source": [
    "A.nullspace()                              # N(A)"
   ]
  },
  {
   "cell_type": "markdown",
   "metadata": {},
   "source": [
    "### Determinants"
   ]
  },
  {
   "cell_type": "markdown",
   "metadata": {},
   "source": [
    "The determinant of a matrix, \n",
    "denoted $\\det(A)$ or $|A|$, \n",
    "is a particular way to multiply the entries of the matrix to produce a single number."
   ]
  },
  {
   "cell_type": "code",
   "execution_count": 187,
   "metadata": {
    "collapsed": false
   },
   "outputs": [
    {
     "data": {
      "image/png": "[encoded data removed]",
      "text/latex": [
       "$$2$$"
      ],
      "text/plain": [
       "2"
      ]
     },
     "execution_count": 187,
     "metadata": {},
     "output_type": "execute_result"
    }
   ],
   "source": [
    "M = Matrix( [[1, 2, 3], \n",
    "             [2,-2, 4],\n",
    "             [2, 2, 5]] )\n",
    "M.det()"
   ]
  },
  {
   "cell_type": "markdown",
   "metadata": {},
   "source": [
    "Determinants are used for all kinds of tasks:\n",
    "to compute areas and volumes,\n",
    "to solve systems of equations, \n",
    "and to check whether a matrix is invertible or not."
   ]
  },
  {
   "cell_type": "markdown",
   "metadata": {},
   "source": [
    "### Matrix inverse"
   ]
  },
  {
   "cell_type": "markdown",
   "metadata": {},
   "source": [
    "For every invertible matrix $A$,\n",
    "there exists an inverse matrix $A^{-1}$ which *undoes* the effect of $A$.\n",
    "The cumulative effect of the product of $A$ and $A^{-1}$ (in any order)\n",
    "is the identity matrix: $AA^{-1}= A^{-1}A=\\mathbb{1}$."
   ]
  },
  {
   "cell_type": "code",
   "execution_count": 188,
   "metadata": {
    "collapsed": false
   },
   "outputs": [
    {
     "data": {
      "image/png": "[encoded data removed]",
      "text/latex": [
       "$$\\left[\\begin{matrix}3 & - \\frac{2}{3}\\\\-1 & \\frac{1}{3}\\end{matrix}\\right]$$"
      ],
      "text/plain": [
       "⎡3   -2/3⎤\n",
       "⎢        ⎥\n",
       "⎣-1  1/3 ⎦"
      ]
     },
     "execution_count": 188,
     "metadata": {},
     "output_type": "execute_result"
    }
   ],
   "source": [
    "A = Matrix( [[1,2], \n",
    "             [3,9]] ) \n",
    "A.inv()"
   ]
  },
  {
   "cell_type": "code",
   "execution_count": 189,
   "metadata": {
    "collapsed": false
   },
   "outputs": [
    {
     "data": {
      "image/png": "[encoded data removed]",
      "text/latex": [
       "$$\\left[\\begin{matrix}1 & 0\\\\0 & 1\\end{matrix}\\right]$$"
      ],
      "text/plain": [
       "⎡1  0⎤\n",
       "⎢    ⎥\n",
       "⎣0  1⎦"
      ]
     },
     "execution_count": 189,
     "metadata": {},
     "output_type": "execute_result"
    }
   ],
   "source": [
    "A.inv()*A"
   ]
  },
  {
   "cell_type": "code",
   "execution_count": 190,
   "metadata": {
    "collapsed": false
   },
   "outputs": [
    {
     "data": {
      "image/png": "[encoded data removed]",
      "text/latex": [
       "$$\\left[\\begin{matrix}1 & 0\\\\0 & 1\\end{matrix}\\right]$$"
      ],
      "text/plain": [
       "⎡1  0⎤\n",
       "⎢    ⎥\n",
       "⎣0  1⎦"
      ]
     },
     "execution_count": 190,
     "metadata": {},
     "output_type": "execute_result"
    }
   ],
   "source": [
    "A*A.inv()"
   ]
  },
  {
   "cell_type": "markdown",
   "metadata": {},
   "source": [
    "The matrix inverse $A^{-1}$ plays the role of division by $A$."
   ]
  },
  {
   "cell_type": "markdown",
   "metadata": {},
   "source": [
    "### Eigenvectors and eigenvalues"
   ]
  },
  {
   "cell_type": "markdown",
   "metadata": {},
   "source": [
    "When a matrix is multiplied by one of its eigenvectors the output\n",
    "is the same eigenvector multiplied by a constant $A\\vec{e}_\\lambda =\\lambda\\vec{e}_\\lambda$.\n",
    "The constant $\\lambda$ (the Greek letter *lambda*) is called an *eigenvalue* of $A$.\n",
    "\n",
    "To find the eigenvalues of a matrix, start from the definition $A\\vec{e}_\\lambda =\\lambda\\vec{e}_\\lambda$,\n",
    "insert the identity $\\mathbb{1}$, \n",
    "and rewrite it as a null-space problem:\n",
    "\n",
    "$$\n",
    "A\\vec{e}_\\lambda =\\lambda\\mathbb{1}\\vec{e}_\\lambda\n",
    "\\qquad\n",
    "\\Rightarrow\n",
    "\\qquad\n",
    "\\left(A - \\lambda\\mathbb{1}\\right)\\vec{e}_\\lambda = \\vec{0}.\n",
    "$$\n",
    "\n",
    "This equation will have a solution whenever $|A - \\lambda\\mathbb{1}|=0$.(The invertible matrix theorem states\n",
    "that a matrix has a non-empty null space if and only if its determinant is zero.)\n",
    "The eigenvalues of $A \\in \\mathbb{R}^{n \\times n}$, \n",
    "denoted $\\{ \\lambda_1, \\lambda_2, \\ldots, \\lambda_n \\}$,\\\n",
    "are the roots of the *characteristic polynomial* $p(\\lambda)=|A - \\lambda \\mathbb{1}|$."
   ]
  },
  {
   "cell_type": "code",
   "execution_count": 191,
   "metadata": {
    "collapsed": false
   },
   "outputs": [
    {
     "data": {
      "image/png": "[encoded data removed]",
      "text/latex": [
       "$$\\left \\{ 5 : 1, \\quad 10 : 1\\right \\}$$"
      ],
      "text/plain": [
       "{5: 1, 10: 1}"
      ]
     },
     "execution_count": 191,
     "metadata": {},
     "output_type": "execute_result"
    }
   ],
   "source": [
    "A = Matrix( [[ 9, -2],\n",
    "             [-2,  6]] )\n",
    "A.eigenvals()  # same as solve(det(A-eye(2)*x), x)\n",
    "               # return eigenvalues with their multiplicity"
   ]
  },
  {
   "cell_type": "code",
   "execution_count": 192,
   "metadata": {
    "collapsed": false
   },
   "outputs": [
    {
     "data": {
      "image/png": "[encoded data removed]",
      "text/latex": [
       "$$\\left [ \\left ( 5, \\quad 1, \\quad \\left [ \\left[\\begin{matrix}\\frac{1}{2}\\\\1\\end{matrix}\\right]\\right ]\\right ), \\quad \\left ( 10, \\quad 1, \\quad \\left [ \\left[\\begin{matrix}-2\\\\1\\end{matrix}\\right]\\right ]\\right )\\right ]$$"
      ],
      "text/plain": [
       "⎡⎛5, 1, ⎡⎡1/2⎤⎤⎞, ⎛10, 1, ⎡⎡-2⎤⎤⎞⎤\n",
       "⎢⎜      ⎢⎢   ⎥⎥⎟  ⎜       ⎢⎢  ⎥⎥⎟⎥\n",
       "⎣⎝      ⎣⎣ 1 ⎦⎦⎠  ⎝       ⎣⎣1 ⎦⎦⎠⎦"
      ]
     },
     "execution_count": 192,
     "metadata": {},
     "output_type": "execute_result"
    }
   ],
   "source": [
    "A.eigenvects()"
   ]
  },
  {
   "cell_type": "markdown",
   "metadata": {},
   "source": [
    "Certain matrices can be written entirely in terms of their eigenvectors and their eigenvalues.\n",
    "Consider the matrix $\\Lambda$ (capital Greek *L*) that has the eigenvalues of the matrix $A$ on the diagonal, \n",
    "and the matrix $Q$ constructed from the eigenvectors of $A$ as columns:\n",
    "\n",
    "$$\n",
    "\\Lambda = \n",
    "\\begin{bmatrix}\n",
    "\\lambda_1\t&  \\cdots  &  0 \\\\\n",
    "\\vdots \t&  \\ddots  &  0  \\\\\n",
    "0  \t&   0      &  \\lambda_n\n",
    "\\end{bmatrix}\\!,\n",
    "\\ \\ \n",
    "Q \\: = \n",
    "\\begin{bmatrix}\n",
    "|  &  & | \\\\\n",
    "\\vec{e}_{\\lambda_1}  & \\!  \\cdots \\! &  \\large\\vec{e}_{\\lambda_n} \\\\\n",
    "|  &  & | \n",
    "\\end{bmatrix}\\!,\n",
    "\\ \\ \n",
    "\\textrm{then}\n",
    "\\ \\ \n",
    "A = Q \\Lambda Q^{-1}.\n",
    "$$\n",
    "\n",
    "Matrices that can be written this way are called *diagonalizable*.\n",
    "To *diagonalize* a matrix $A$ is to find its $Q$ and $\\Lambda$ matrices:"
   ]
  },
  {
   "cell_type": "code",
   "execution_count": 193,
   "metadata": {
    "collapsed": false
   },
   "outputs": [
    {
     "data": {
      "image/png": "[encoded data removed]",
      "text/latex": [
       "$$\\left[\\begin{matrix}1 & -2\\\\2 & 1\\end{matrix}\\right]$$"
      ],
      "text/plain": [
       "⎡1  -2⎤\n",
       "⎢     ⎥\n",
       "⎣2  1 ⎦"
      ]
     },
     "execution_count": 193,
     "metadata": {},
     "output_type": "execute_result"
    }
   ],
   "source": [
    "Q, L = A.diagonalize()\n",
    "Q            # the matrix of eigenvectors as columns "
   ]
  },
  {
   "cell_type": "code",
   "execution_count": 194,
   "metadata": {
    "collapsed": false
   },
   "outputs": [
    {
     "data": {
      "image/png": "[encoded data removed]",
      "text/latex": [
       "$$\\left[\\begin{matrix}\\frac{1}{5} & \\frac{2}{5}\\\\- \\frac{2}{5} & \\frac{1}{5}\\end{matrix}\\right]$$"
      ],
      "text/plain": [
       "⎡1/5   2/5⎤\n",
       "⎢         ⎥\n",
       "⎣-2/5  1/5⎦"
      ]
     },
     "execution_count": 194,
     "metadata": {},
     "output_type": "execute_result"
    }
   ],
   "source": [
    "Q.inv()"
   ]
  },
  {
   "cell_type": "code",
   "execution_count": 195,
   "metadata": {
    "collapsed": false
   },
   "outputs": [
    {
     "data": {
      "image/png": "[encoded data removed]",
      "text/latex": [
       "$$\\left[\\begin{matrix}5 & 0\\\\0 & 10\\end{matrix}\\right]$$"
      ],
      "text/plain": [
       "⎡5  0 ⎤\n",
       "⎢     ⎥\n",
       "⎣0  10⎦"
      ]
     },
     "execution_count": 195,
     "metadata": {},
     "output_type": "execute_result"
    }
   ],
   "source": [
    "L            # the matrix of eigenvalues"
   ]
  },
  {
   "cell_type": "code",
   "execution_count": 196,
   "metadata": {
    "collapsed": false
   },
   "outputs": [
    {
     "data": {
      "image/png": "[encoded data removed]",
      "text/latex": [
       "$$\\left[\\begin{matrix}9 & -2\\\\-2 & 6\\end{matrix}\\right]$$"
      ],
      "text/plain": [
       "⎡9   -2⎤\n",
       "⎢      ⎥\n",
       "⎣-2  6 ⎦"
      ]
     },
     "execution_count": 196,
     "metadata": {},
     "output_type": "execute_result"
    }
   ],
   "source": [
    "Q*L*Q.inv()  # eigendecomposition of A"
   ]
  },
  {
   "cell_type": "code",
   "execution_count": 197,
   "metadata": {
    "collapsed": false
   },
   "outputs": [
    {
     "data": {
      "image/png": "[encoded data removed]",
      "text/latex": [
       "$$\\left[\\begin{matrix}5 & 0\\\\0 & 10\\end{matrix}\\right]$$"
      ],
      "text/plain": [
       "⎡5  0 ⎤\n",
       "⎢     ⎥\n",
       "⎣0  10⎦"
      ]
     },
     "execution_count": 197,
     "metadata": {},
     "output_type": "execute_result"
    }
   ],
   "source": [
    "Q.inv()*A*Q  # obtain L from A and Q"
   ]
  },
  {
   "cell_type": "markdown",
   "metadata": {},
   "source": [
    "Not all matrices are diagonalizable.\n",
    "You can check if a matrix is diagonalizable by calling its `is_diagonalizable` method:"
   ]
  },
  {
   "cell_type": "code",
   "execution_count": 198,
   "metadata": {
    "collapsed": false
   },
   "outputs": [
    {
     "data": {
      "text/plain": [
       "True"
      ]
     },
     "execution_count": 198,
     "metadata": {},
     "output_type": "execute_result"
    }
   ],
   "source": [
    "A.is_diagonalizable()"
   ]
  },
  {
   "cell_type": "code",
   "execution_count": 199,
   "metadata": {
    "collapsed": false
   },
   "outputs": [
    {
     "data": {
      "text/plain": [
       "False"
      ]
     },
     "execution_count": 199,
     "metadata": {},
     "output_type": "execute_result"
    }
   ],
   "source": [
    "B = Matrix( [[1, 3],\n",
    "            [0, 1]] )\n",
    "B.is_diagonalizable()"
   ]
  },
  {
   "cell_type": "code",
   "execution_count": 200,
   "metadata": {
    "collapsed": false
   },
   "outputs": [
    {
     "data": {
      "image/png": "[encoded data removed]",
      "text/latex": [
       "$$\\left \\{ 1 : 2\\right \\}$$"
      ],
      "text/plain": [
       "{1: 2}"
      ]
     },
     "execution_count": 200,
     "metadata": {},
     "output_type": "execute_result"
    }
   ],
   "source": [
    "B.eigenvals()  # eigenvalue 1 with multiplicity 2"
   ]
  },
  {
   "cell_type": "code",
   "execution_count": 201,
   "metadata": {
    "collapsed": false
   },
   "outputs": [
    {
     "data": {
      "image/png": "[encoded data removed]",
      "text/latex": [
       "$$\\left [ \\left ( 1, \\quad 2, \\quad \\left [ \\left[\\begin{matrix}1\\\\0\\end{matrix}\\right]\\right ]\\right )\\right ]$$"
      ],
      "text/plain": [
       "⎡⎛1, 2, ⎡⎡1⎤⎤⎞⎤\n",
       "⎢⎜      ⎢⎢ ⎥⎥⎟⎥\n",
       "⎣⎝      ⎣⎣0⎦⎦⎠⎦"
      ]
     },
     "execution_count": 201,
     "metadata": {},
     "output_type": "execute_result"
    }
   ],
   "source": [
    "B.eigenvects()"
   ]
  },
  {
   "cell_type": "markdown",
   "metadata": {},
   "source": [
    "The matrix $B$ is not diagonalizable because it doesn't have a full set of eigenvectors.\n",
    "To diagonalize a $2\\times 2$ matrix, we need two orthogonal eigenvectors but $B$ has only a single eigenvector.\n",
    "Therefore, we can't construct the matrix of eigenvectors $Q$ (we're missing a column!) \n",
    "and so $B$ is not diagonalizable.\n",
    "\n",
    "Non-square matrices don't have eigenvectors and therefore don't have an eigendecomposition.\n",
    "Instead, we can use the *singular value decomposition* to break up a non-square matrix $A$ into \n",
    "left singular vectors,\n",
    "right singular vectors, \n",
    "and a diagonal matrix of singular values.\n",
    "Use the `singular_values` method on any matrix to find its singular values."
   ]
  }
  ],
 "metadata": {
  "kernelspec": {
   "display_name": "Python 3",
   "language": "python",
   "name": "python3"
  },
  "language_info": {
   "codemirror_mode": {
    "name": "ipython",
    "version": 3
   },
   "file_extension": ".py",
   "mimetype": "text/x-python",
   "name": "python",
   "nbconvert_exporter": "python",
   "pygments_lexer": "ipython3",
   "version": "3.4.3"
  }
 },
 "nbformat": 4,
 "nbformat_minor": 0
}
